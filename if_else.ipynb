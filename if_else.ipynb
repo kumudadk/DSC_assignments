{
 "cells": [
  {
   "cell_type": "code",
   "execution_count": 1,
   "metadata": {},
   "outputs": [
    {
     "name": "stdout",
     "output_type": "stream",
     "text": [
      "Enter seriesDark\n",
      "This is thriller\n"
     ]
    }
   ],
   "source": [
    "thriller=[\"Dark\",\"Mindhunter\",\"Parasite\",\"Inception\",\"Insidious\",\"Kahaani\",\"Prison Break\",\"Money Heist\",\"War\",\"Jack Ryan\"]\n",
    "comedy=[\"Friends\",\"3 Idiots\",\"Golmaal\",\"Brooklyn 99\",\"How I Met Your Mother\",\"Rick And Morty\",\"The Big Bang Theory\",\"The Office\",\"Space Force\"]\n",
    "series=input(\"Enter series\")\n",
    "if series  in thriller:\n",
    "    print(\"This is thriller\")\n",
    "elif series  in comedy :\n",
    "    print(\"This is a comedy\")\n",
    "else:\n",
    "    print(\"Neither thriller nor of comedy\")\n"
   ]
  },
  {
   "cell_type": "code",
   "execution_count": null,
   "metadata": {},
   "outputs": [],
   "source": []
  }
 ],
 "metadata": {
  "kernelspec": {
   "display_name": "Python 3",
   "language": "python",
   "name": "python3"
  },
  "language_info": {
   "codemirror_mode": {
    "name": "ipython",
    "version": 3
   },
   "file_extension": ".py",
   "mimetype": "text/x-python",
   "name": "python",
   "nbconvert_exporter": "python",
   "pygments_lexer": "ipython3",
   "version": "3.7.3"
  }
 },
 "nbformat": 4,
 "nbformat_minor": 2
}
